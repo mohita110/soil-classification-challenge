"""
Author: Annam.ai IIT Ropar
Team Name: TechZirconia
Team Members: Mohita, Siya Kumar
Leaderboard Rank: <72>
"""



# training.ipynb

import os
from tensorflow.keras.models import Sequential
from tensorflow.keras.layers import Conv2D, MaxPooling2D, Flatten, Dense, Dropout
from tensorflow.keras.preprocessing.image import ImageDataGenerator

# SETUP
data_path = '/kaggle/input/soil-dataset/soil_competition-2'

# DATA LOADING & PREPROCESSING
datagen = ImageDataGenerator(rescale=1./255, validation_split=0.2)
train_gen = datagen.flow_from_directory(data_path, target_size=(224, 224), batch_size=32, class_mode='binary', subset='training')
val_gen = datagen.flow_from_directory(data_path, target_size=(224, 224), batch_size=32, class_mode='binary', subset='validation')

# MODEL BUILDING
model = Sequential([
    Conv2D(32, (3, 3), activation='relu', input_shape=(224, 224, 3)),
    MaxPooling2D(2, 2),
    Conv2D(64, (3, 3), activation='relu'),
    MaxPooling2D(2, 2),
    Flatten(),
    Dropout(0.3),
    Dense(64, activation='relu'),
    Dense(1, activation='sigmoid')
])

# COMPILE & TRAIN
model.compile(optimizer='adam', loss='binary_crossentropy', metrics=['accuracy'])
model.fit(train_gen, validation_data=val_gen, epochs=25)

# SAVE MODEL
model.save('soil_model.h5')
