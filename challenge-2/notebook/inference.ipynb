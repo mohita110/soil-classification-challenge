"""

Author: Annam.ai IIT Ropar
Team Name: TeamZirconia
Team Members: Mohita, Siya Kumar
Leaderboard Rank: <72>

"""
# inference.ipynb

import os
import numpy as np
import pandas as pd
from tensorflow.keras.models import load_model
from tensorflow.keras.preprocessing.image import load_img, img_to_array
from tqdm import tqdm

# SETUP
test_path = '/kaggle/input/test-set/test'

# LOAD MODEL
model = load_model('soil_model.h5')

# LIST TEST IMAGES
image_files = [f for f in os.listdir(test_path) if f.lower().endswith(('.png', '.jpg', '.jpeg'))]
results = []

# PREDICTION LOOP
for img_file in tqdm(image_files):
    img_path = os.path.join(test_path, img_file)
    img = load_img(img_path, target_size=(224, 224))
    img_array = img_to_array(img) / 255.0
    img_array = np.expand_dims(img_array, axis=0)
    prediction = model.predict(img_array)[0][0]
    label = "1" if prediction > 0.5 else "0"
    results.append({"filename": img_file, "prediction": label, "probability": float(prediction)})

# SAVE PREDICTIONS TO CSV
df = pd.DataFrame(results)
df.to_csv("test_predictions.csv", index=False)
print("✅ Saved predictions to test_predictions.csv")
